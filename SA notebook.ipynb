{
 "cells": [
  {
   "cell_type": "code",
   "execution_count": 2,
   "id": "9ea3cb12-5c7c-4409-b227-a713bf6de6bd",
   "metadata": {},
   "outputs": [],
   "source": [
    "import pandas as pd\n",
    "import numpy as np\n",
    "import matplotlib.pyplot as plt\n",
    "import nltk\n",
    "from nltk.tokenize import word_tokenize\n",
    "from nltk.corpus import stopwords\n",
    "import contractions\n",
    "import string\n",
    "from nltk.stem import WordNetLemmatizer\n",
    "from pandarallel import pandarallel\n",
    "import unicodedata\n",
    "from sklearn.model_selection import train_test_split\n",
    "from sklearn.feature_extraction.text import TfidfVectorizer\n",
    "from tqdm.notebook import tqdm\n",
    "from sklearn.naive_bayes import MultinomialNB\n",
    "from sklearn.model_selection import KFold\n",
    "from sklearn.linear_model import LogisticRegression\n",
    "from sklearn.metrics import f1_score ,  accuracy_score\n",
    "import re"
   ]
  },
  {
   "cell_type": "markdown",
   "id": "fe2cafb3-fb23-4db8-8c11-4550d023fbfb",
   "metadata": {},
   "source": [
    "Note : you might need to download some resources from nltk like:\n",
    "nltk.download('stopwords')  # For stopword list\n",
    "\n",
    "to download all resources:\n",
    "nltk.download('all')\n"
   ]
  },
  {
   "cell_type": "markdown",
   "id": "e75276ff-f958-4a82-99f2-e75009f40096",
   "metadata": {},
   "source": [
    "**Reading Data from 2 json files**"
   ]
  },
  {
   "cell_type": "code",
   "execution_count": 3,
   "id": "5e7813da-a087-4a26-a61c-ac0e1946a5b4",
   "metadata": {},
   "outputs": [],
   "source": [
    "#files = ['Health_and_Personal_Care.jsonl','Magazine_Subscriptions.jsonl']\n"
   ]
  },
  {
   "cell_type": "code",
   "execution_count": 4,
   "id": "cb1d2f29-dab5-48b7-a742-93f70fd0dda0",
   "metadata": {},
   "outputs": [
    {
     "data": {
      "application/vnd.jupyter.widget-view+json": {
       "model_id": "8bc43d04ce7a40aa83562a31cf2a692e",
       "version_major": 2,
       "version_minor": 0
      },
      "text/plain": [
       "Processing Magazine_Subscriptions.jsonl:   0%|          | 0/1 [00:00<?, ?it/s]"
      ]
     },
     "metadata": {},
     "output_type": "display_data"
    }
   ],
   "source": [
    "df = pd.DataFrame()\n",
    "\n",
    "# Read the JSONL files in chunks and combine them\n",
    "\n",
    "chunksize = 100000\n",
    "files = ['Magazine_Subscriptions.jsonl']\n",
    "\n",
    "# Use tqdm to track the progress\n",
    "for file in files:\n",
    "    # Get the total number of chunks for the current file\n",
    "    total_chunks = sum(1 for _ in open(file)) // chunksize + 1\n",
    "    with tqdm(total=total_chunks, desc=f'Processing {file}') as pbar:\n",
    "        for chunk in pd.read_json(file, lines=True, chunksize=chunksize):\n",
    "            chunk['source_file'] = file\n",
    "            df = pd.concat([df, chunk], axis=0, ignore_index=True)\n",
    "            pbar.update(1)  # Update the progress bar for each chunk processed\n"
   ]
  },
  {
   "cell_type": "markdown",
   "id": "8a6b8e68-bdea-4043-ba46-5fe176d530cb",
   "metadata": {},
   "source": [
    "**Data Cleaning**"
   ]
  },
  {
   "cell_type": "code",
   "execution_count": 5,
   "id": "61ae1fb5-06ac-4bd3-92d7-652cc8e9b44f",
   "metadata": {
    "scrolled": true
   },
   "outputs": [],
   "source": [
    "df= df.drop(columns=['images', 'asin', 'parent_asin', 'user_id',\n",
    "     'timestamp', 'helpful_vote', 'verified_purchase', 'source_file', 'title'])\n",
    "\n",
    "df = df.dropna(subset=['text'])\n",
    "\n",
    "\n",
    "df = df[df['text'].str.strip() != '']  # Remove rows with empty or whitespace-only text\n",
    "df['text'] = df['text'].astype(str)\n",
    "\n",
    "\n",
    "df = df[df['text'].apply(lambda x: isinstance(x, str))]  # Keep only string entries\n",
    "\n",
    "\n",
    "def assign_sentiment(rating):\n",
    "    if rating >= 4:\n",
    "        return 'positive'\n",
    "    elif rating == 3:\n",
    "        return 'neutral'\n",
    "    else:\n",
    "        return 'negative'\n",
    "\n",
    "df['sentiment'] = df['rating'].apply(assign_sentiment)\n",
    "\n",
    "\n",
    "lemmatizer = WordNetLemmatizer()\n",
    "\n",
    "stopwords = set(stopwords.words('english'))\n",
    "\n",
    "stop_punc_list = stopwords.union(string.punctuation)\n",
    "\n",
    "df = df.drop(columns=['rating'])"
   ]
  },
  {
   "cell_type": "markdown",
   "id": "0791b231-99b5-452a-8b11-93f9fc134b95",
   "metadata": {},
   "source": [
    "Because the dataset is very big , we randomly choose 10k samples from our dataset in order to save time."
   ]
  },
  {
   "cell_type": "code",
   "execution_count": 6,
   "id": "f0a4ad50-9a85-4cbc-869f-546bcc92eaf7",
   "metadata": {},
   "outputs": [],
   "source": [
    "X = df['text'].sample(n=10000, random_state=42)\n",
    "X = pd.DataFrame(X)\n",
    "\n",
    "Y = df.loc[X.index, 'sentiment']  # Get the labels corresponding to the sampled rows\n",
    "y = pd.DataFrame(Y)\n"
   ]
  },
  {
   "cell_type": "code",
   "execution_count": 7,
   "id": "58d626db-8103-46e3-a500-399f80e72158",
   "metadata": {},
   "outputs": [],
   "source": [
    "def preprocessing(df):\n",
    "    processed_texts = [] \n",
    "    original_texts = []  \n",
    "    text_ids = []         \n",
    "\n",
    "    for i, row in tqdm(df.iterrows(), total=len(df), desc=\"Processing rows\"):\n",
    "        text = row['text']\n",
    "        text_id = i  \n",
    "        \n",
    "        # Tokenization and stopword removal\n",
    "        tokenized_text = nltk.word_tokenize(text)\n",
    "        filtered_text = [\n",
    "            token for token in tokenized_text \n",
    "            if token not in stop_punc_list        # Remove stopwords & punctuation\n",
    "            and not re.search(r'\\d', token)       # Remove numbers\n",
    "            and re.match(r'^[a-zA-Z]+$', token)   # Keep only alphabetic words\n",
    "        ]     \n",
    "        # Join tokens back into a string for vectorization\n",
    "        final_text = \" \".join(filtered_text)\n",
    "        \n",
    "        processed_texts.append(final_text)\n",
    "        original_texts.append(text)\n",
    "        text_ids.append(text_id)\n",
    "\n",
    "    # Return preprocessed text as DataFrame\n",
    "    return pd.DataFrame({\"Text_ID\": text_ids, \"Processed Text\": processed_texts})"
   ]
  },
  {
   "cell_type": "markdown",
   "id": "ae76a792-9c01-437f-b02e-064bad4cb652",
   "metadata": {},
   "source": [
    "Cross Validation in order to find the best classifier for this specific task with target metric **F1-Score**\n",
    "Classifiers used **NBC** and **Logistic Regression** along with 3 different values for each hyper-parameter."
   ]
  },
  {
   "cell_type": "code",
   "execution_count": 8,
   "id": "badb3e7a-39f1-43d6-bb1e-77e97da16369",
   "metadata": {},
   "outputs": [
    {
     "name": "stdout",
     "output_type": "stream",
     "text": [
      "Training Naive Bayes with parameter=0.05\n"
     ]
    },
    {
     "data": {
      "application/vnd.jupyter.widget-view+json": {
       "model_id": "cd254396f11d47f1a41f05a21a11c1ae",
       "version_major": 2,
       "version_minor": 0
      },
      "text/plain": [
       "Processing rows:   0%|          | 0/8000 [00:00<?, ?it/s]"
      ]
     },
     "metadata": {},
     "output_type": "display_data"
    },
    {
     "data": {
      "application/vnd.jupyter.widget-view+json": {
       "model_id": "a63f198975bd4469886bffd618c910f1",
       "version_major": 2,
       "version_minor": 0
      },
      "text/plain": [
       "Processing rows:   0%|          | 0/2000 [00:00<?, ?it/s]"
      ]
     },
     "metadata": {},
     "output_type": "display_data"
    },
    {
     "data": {
      "application/vnd.jupyter.widget-view+json": {
       "model_id": "2fb29d5248da4109a4b9b6a880f0e02a",
       "version_major": 2,
       "version_minor": 0
      },
      "text/plain": [
       "Processing rows:   0%|          | 0/8000 [00:00<?, ?it/s]"
      ]
     },
     "metadata": {},
     "output_type": "display_data"
    },
    {
     "data": {
      "application/vnd.jupyter.widget-view+json": {
       "model_id": "0c2f9ecbdbbf442c97ab366f2e382d61",
       "version_major": 2,
       "version_minor": 0
      },
      "text/plain": [
       "Processing rows:   0%|          | 0/2000 [00:00<?, ?it/s]"
      ]
     },
     "metadata": {},
     "output_type": "display_data"
    },
    {
     "data": {
      "application/vnd.jupyter.widget-view+json": {
       "model_id": "16b2f74604194de8a1f97931f2a3129e",
       "version_major": 2,
       "version_minor": 0
      },
      "text/plain": [
       "Processing rows:   0%|          | 0/8000 [00:00<?, ?it/s]"
      ]
     },
     "metadata": {},
     "output_type": "display_data"
    },
    {
     "data": {
      "application/vnd.jupyter.widget-view+json": {
       "model_id": "db879aedba644f6dbb0272dee2dbd7f8",
       "version_major": 2,
       "version_minor": 0
      },
      "text/plain": [
       "Processing rows:   0%|          | 0/2000 [00:00<?, ?it/s]"
      ]
     },
     "metadata": {},
     "output_type": "display_data"
    },
    {
     "data": {
      "application/vnd.jupyter.widget-view+json": {
       "model_id": "8c2a150d161f46c38aff4d3ee4b57b56",
       "version_major": 2,
       "version_minor": 0
      },
      "text/plain": [
       "Processing rows:   0%|          | 0/8000 [00:00<?, ?it/s]"
      ]
     },
     "metadata": {},
     "output_type": "display_data"
    },
    {
     "data": {
      "application/vnd.jupyter.widget-view+json": {
       "model_id": "01b3ca764f7848c09299e00fac53ff89",
       "version_major": 2,
       "version_minor": 0
      },
      "text/plain": [
       "Processing rows:   0%|          | 0/2000 [00:00<?, ?it/s]"
      ]
     },
     "metadata": {},
     "output_type": "display_data"
    },
    {
     "data": {
      "application/vnd.jupyter.widget-view+json": {
       "model_id": "e67ba9255c3e4cc09d999080357eee17",
       "version_major": 2,
       "version_minor": 0
      },
      "text/plain": [
       "Processing rows:   0%|          | 0/8000 [00:00<?, ?it/s]"
      ]
     },
     "metadata": {},
     "output_type": "display_data"
    },
    {
     "data": {
      "application/vnd.jupyter.widget-view+json": {
       "model_id": "587e91df51334f05a57606f5d5c40fd9",
       "version_major": 2,
       "version_minor": 0
      },
      "text/plain": [
       "Processing rows:   0%|          | 0/2000 [00:00<?, ?it/s]"
      ]
     },
     "metadata": {},
     "output_type": "display_data"
    },
    {
     "name": "stdout",
     "output_type": "stream",
     "text": [
      "Average accuracy for Naive Bayes with parameter=0.05: 0.8263999999999999\n",
      "Average F1-score for Naive Bayes with parameter=0.05: 0.7909080290570565\n",
      "Training Naive Bayes with parameter=0.5\n"
     ]
    },
    {
     "data": {
      "application/vnd.jupyter.widget-view+json": {
       "model_id": "3ac83d49f4984413aa9a224da36d7d45",
       "version_major": 2,
       "version_minor": 0
      },
      "text/plain": [
       "Processing rows:   0%|          | 0/8000 [00:00<?, ?it/s]"
      ]
     },
     "metadata": {},
     "output_type": "display_data"
    },
    {
     "data": {
      "application/vnd.jupyter.widget-view+json": {
       "model_id": "6787acb606d54585a2c7fead8963b170",
       "version_major": 2,
       "version_minor": 0
      },
      "text/plain": [
       "Processing rows:   0%|          | 0/2000 [00:00<?, ?it/s]"
      ]
     },
     "metadata": {},
     "output_type": "display_data"
    },
    {
     "data": {
      "application/vnd.jupyter.widget-view+json": {
       "model_id": "179773da409f466f80e42acfaaa7752c",
       "version_major": 2,
       "version_minor": 0
      },
      "text/plain": [
       "Processing rows:   0%|          | 0/8000 [00:00<?, ?it/s]"
      ]
     },
     "metadata": {},
     "output_type": "display_data"
    },
    {
     "data": {
      "application/vnd.jupyter.widget-view+json": {
       "model_id": "724fbb6b710c45928ad55e1b667cd28b",
       "version_major": 2,
       "version_minor": 0
      },
      "text/plain": [
       "Processing rows:   0%|          | 0/2000 [00:00<?, ?it/s]"
      ]
     },
     "metadata": {},
     "output_type": "display_data"
    },
    {
     "data": {
      "application/vnd.jupyter.widget-view+json": {
       "model_id": "49f99f3371ed4023833a6a623a6fe1cc",
       "version_major": 2,
       "version_minor": 0
      },
      "text/plain": [
       "Processing rows:   0%|          | 0/8000 [00:00<?, ?it/s]"
      ]
     },
     "metadata": {},
     "output_type": "display_data"
    },
    {
     "data": {
      "application/vnd.jupyter.widget-view+json": {
       "model_id": "24519d84ddda4320afd87113937e61d5",
       "version_major": 2,
       "version_minor": 0
      },
      "text/plain": [
       "Processing rows:   0%|          | 0/2000 [00:00<?, ?it/s]"
      ]
     },
     "metadata": {},
     "output_type": "display_data"
    },
    {
     "data": {
      "application/vnd.jupyter.widget-view+json": {
       "model_id": "c5ce8748c9b84d45a026b013cceab336",
       "version_major": 2,
       "version_minor": 0
      },
      "text/plain": [
       "Processing rows:   0%|          | 0/8000 [00:00<?, ?it/s]"
      ]
     },
     "metadata": {},
     "output_type": "display_data"
    },
    {
     "data": {
      "application/vnd.jupyter.widget-view+json": {
       "model_id": "c8881cf93578459f8a0c268d09a6c750",
       "version_major": 2,
       "version_minor": 0
      },
      "text/plain": [
       "Processing rows:   0%|          | 0/2000 [00:00<?, ?it/s]"
      ]
     },
     "metadata": {},
     "output_type": "display_data"
    },
    {
     "data": {
      "application/vnd.jupyter.widget-view+json": {
       "model_id": "fae01449548a4fbe90cce12feda23350",
       "version_major": 2,
       "version_minor": 0
      },
      "text/plain": [
       "Processing rows:   0%|          | 0/8000 [00:00<?, ?it/s]"
      ]
     },
     "metadata": {},
     "output_type": "display_data"
    },
    {
     "data": {
      "application/vnd.jupyter.widget-view+json": {
       "model_id": "4a6cac9678854d8aafd388567aa575b7",
       "version_major": 2,
       "version_minor": 0
      },
      "text/plain": [
       "Processing rows:   0%|          | 0/2000 [00:00<?, ?it/s]"
      ]
     },
     "metadata": {},
     "output_type": "display_data"
    },
    {
     "name": "stdout",
     "output_type": "stream",
     "text": [
      "Average accuracy for Naive Bayes with parameter=0.5: 0.7849999999999999\n",
      "Average F1-score for Naive Bayes with parameter=0.5: 0.720684190777233\n",
      "Training Naive Bayes with parameter=0.025\n"
     ]
    },
    {
     "data": {
      "application/vnd.jupyter.widget-view+json": {
       "model_id": "f6ee0284ba3147d5b7a9ca093649551a",
       "version_major": 2,
       "version_minor": 0
      },
      "text/plain": [
       "Processing rows:   0%|          | 0/8000 [00:00<?, ?it/s]"
      ]
     },
     "metadata": {},
     "output_type": "display_data"
    },
    {
     "data": {
      "application/vnd.jupyter.widget-view+json": {
       "model_id": "4137a639c543463f946aec7fb8257cd4",
       "version_major": 2,
       "version_minor": 0
      },
      "text/plain": [
       "Processing rows:   0%|          | 0/2000 [00:00<?, ?it/s]"
      ]
     },
     "metadata": {},
     "output_type": "display_data"
    },
    {
     "data": {
      "application/vnd.jupyter.widget-view+json": {
       "model_id": "972882d26e9b48b69232695a2275f30e",
       "version_major": 2,
       "version_minor": 0
      },
      "text/plain": [
       "Processing rows:   0%|          | 0/8000 [00:00<?, ?it/s]"
      ]
     },
     "metadata": {},
     "output_type": "display_data"
    },
    {
     "data": {
      "application/vnd.jupyter.widget-view+json": {
       "model_id": "34c86310e50e4065957883966ef57538",
       "version_major": 2,
       "version_minor": 0
      },
      "text/plain": [
       "Processing rows:   0%|          | 0/2000 [00:00<?, ?it/s]"
      ]
     },
     "metadata": {},
     "output_type": "display_data"
    },
    {
     "data": {
      "application/vnd.jupyter.widget-view+json": {
       "model_id": "9625ffde70e648cf800b3c8bf9e3d75e",
       "version_major": 2,
       "version_minor": 0
      },
      "text/plain": [
       "Processing rows:   0%|          | 0/8000 [00:00<?, ?it/s]"
      ]
     },
     "metadata": {},
     "output_type": "display_data"
    },
    {
     "data": {
      "application/vnd.jupyter.widget-view+json": {
       "model_id": "759c7e25bc534b868f2fe07c4610ca1b",
       "version_major": 2,
       "version_minor": 0
      },
      "text/plain": [
       "Processing rows:   0%|          | 0/2000 [00:00<?, ?it/s]"
      ]
     },
     "metadata": {},
     "output_type": "display_data"
    },
    {
     "data": {
      "application/vnd.jupyter.widget-view+json": {
       "model_id": "3d980038453e4f63a229aeb8a51dc41d",
       "version_major": 2,
       "version_minor": 0
      },
      "text/plain": [
       "Processing rows:   0%|          | 0/8000 [00:00<?, ?it/s]"
      ]
     },
     "metadata": {},
     "output_type": "display_data"
    },
    {
     "data": {
      "application/vnd.jupyter.widget-view+json": {
       "model_id": "d4e79c84627948bfa581c6f90547d488",
       "version_major": 2,
       "version_minor": 0
      },
      "text/plain": [
       "Processing rows:   0%|          | 0/2000 [00:00<?, ?it/s]"
      ]
     },
     "metadata": {},
     "output_type": "display_data"
    },
    {
     "data": {
      "application/vnd.jupyter.widget-view+json": {
       "model_id": "45bb05a0332f4fa89a2e266fe3058cb0",
       "version_major": 2,
       "version_minor": 0
      },
      "text/plain": [
       "Processing rows:   0%|          | 0/8000 [00:00<?, ?it/s]"
      ]
     },
     "metadata": {},
     "output_type": "display_data"
    },
    {
     "data": {
      "application/vnd.jupyter.widget-view+json": {
       "model_id": "00a4573725ed4056aa05beb8a91fceb0",
       "version_major": 2,
       "version_minor": 0
      },
      "text/plain": [
       "Processing rows:   0%|          | 0/2000 [00:00<?, ?it/s]"
      ]
     },
     "metadata": {},
     "output_type": "display_data"
    },
    {
     "name": "stdout",
     "output_type": "stream",
     "text": [
      "Average accuracy for Naive Bayes with parameter=0.025: 0.8263\n",
      "Average F1-score for Naive Bayes with parameter=0.025: 0.7928819167946407\n",
      "Training Logistic Regression with parameter=1\n"
     ]
    },
    {
     "data": {
      "application/vnd.jupyter.widget-view+json": {
       "model_id": "3e70a412aec4492faaad05b0f7d00bec",
       "version_major": 2,
       "version_minor": 0
      },
      "text/plain": [
       "Processing rows:   0%|          | 0/8000 [00:00<?, ?it/s]"
      ]
     },
     "metadata": {},
     "output_type": "display_data"
    },
    {
     "data": {
      "application/vnd.jupyter.widget-view+json": {
       "model_id": "7486fbe1b3754371ac8ed470d10f2257",
       "version_major": 2,
       "version_minor": 0
      },
      "text/plain": [
       "Processing rows:   0%|          | 0/2000 [00:00<?, ?it/s]"
      ]
     },
     "metadata": {},
     "output_type": "display_data"
    },
    {
     "data": {
      "application/vnd.jupyter.widget-view+json": {
       "model_id": "6287116cc74149ecbc1802003c51014c",
       "version_major": 2,
       "version_minor": 0
      },
      "text/plain": [
       "Processing rows:   0%|          | 0/8000 [00:00<?, ?it/s]"
      ]
     },
     "metadata": {},
     "output_type": "display_data"
    },
    {
     "data": {
      "application/vnd.jupyter.widget-view+json": {
       "model_id": "84c8bb7b40184b9689729dc4739b95e1",
       "version_major": 2,
       "version_minor": 0
      },
      "text/plain": [
       "Processing rows:   0%|          | 0/2000 [00:00<?, ?it/s]"
      ]
     },
     "metadata": {},
     "output_type": "display_data"
    },
    {
     "data": {
      "application/vnd.jupyter.widget-view+json": {
       "model_id": "7565fbbc3b954dc8af2a82031cb6ff0d",
       "version_major": 2,
       "version_minor": 0
      },
      "text/plain": [
       "Processing rows:   0%|          | 0/8000 [00:00<?, ?it/s]"
      ]
     },
     "metadata": {},
     "output_type": "display_data"
    },
    {
     "data": {
      "application/vnd.jupyter.widget-view+json": {
       "model_id": "c2b5bd4637664592bdefd60a12a03c3f",
       "version_major": 2,
       "version_minor": 0
      },
      "text/plain": [
       "Processing rows:   0%|          | 0/2000 [00:00<?, ?it/s]"
      ]
     },
     "metadata": {},
     "output_type": "display_data"
    },
    {
     "data": {
      "application/vnd.jupyter.widget-view+json": {
       "model_id": "4324ccef1811467ba21f9773d1af90ba",
       "version_major": 2,
       "version_minor": 0
      },
      "text/plain": [
       "Processing rows:   0%|          | 0/8000 [00:00<?, ?it/s]"
      ]
     },
     "metadata": {},
     "output_type": "display_data"
    },
    {
     "data": {
      "application/vnd.jupyter.widget-view+json": {
       "model_id": "9754d0f85330442b9803324cea39f235",
       "version_major": 2,
       "version_minor": 0
      },
      "text/plain": [
       "Processing rows:   0%|          | 0/2000 [00:00<?, ?it/s]"
      ]
     },
     "metadata": {},
     "output_type": "display_data"
    },
    {
     "data": {
      "application/vnd.jupyter.widget-view+json": {
       "model_id": "642fc3f7405849738545425d5e95340a",
       "version_major": 2,
       "version_minor": 0
      },
      "text/plain": [
       "Processing rows:   0%|          | 0/8000 [00:00<?, ?it/s]"
      ]
     },
     "metadata": {},
     "output_type": "display_data"
    },
    {
     "data": {
      "application/vnd.jupyter.widget-view+json": {
       "model_id": "13ef72a52e884da7be6c08da468656f7",
       "version_major": 2,
       "version_minor": 0
      },
      "text/plain": [
       "Processing rows:   0%|          | 0/2000 [00:00<?, ?it/s]"
      ]
     },
     "metadata": {},
     "output_type": "display_data"
    },
    {
     "name": "stdout",
     "output_type": "stream",
     "text": [
      "Average accuracy for Logistic Regression with parameter=1: 0.8402000000000001\n",
      "Average F1-score for Logistic Regression with parameter=1: 0.8094271618001521\n",
      "Training Logistic Regression with parameter=1.5\n"
     ]
    },
    {
     "data": {
      "application/vnd.jupyter.widget-view+json": {
       "model_id": "aa2dd240fbd14b189d2ce7bb6f8e6b65",
       "version_major": 2,
       "version_minor": 0
      },
      "text/plain": [
       "Processing rows:   0%|          | 0/8000 [00:00<?, ?it/s]"
      ]
     },
     "metadata": {},
     "output_type": "display_data"
    },
    {
     "data": {
      "application/vnd.jupyter.widget-view+json": {
       "model_id": "587a65a4bfcc459ca189cd898cd93522",
       "version_major": 2,
       "version_minor": 0
      },
      "text/plain": [
       "Processing rows:   0%|          | 0/2000 [00:00<?, ?it/s]"
      ]
     },
     "metadata": {},
     "output_type": "display_data"
    },
    {
     "data": {
      "application/vnd.jupyter.widget-view+json": {
       "model_id": "8e49494b0a494d459188b58c589c596d",
       "version_major": 2,
       "version_minor": 0
      },
      "text/plain": [
       "Processing rows:   0%|          | 0/8000 [00:00<?, ?it/s]"
      ]
     },
     "metadata": {},
     "output_type": "display_data"
    },
    {
     "data": {
      "application/vnd.jupyter.widget-view+json": {
       "model_id": "bc25a57787d343f48ba19e647f95581a",
       "version_major": 2,
       "version_minor": 0
      },
      "text/plain": [
       "Processing rows:   0%|          | 0/2000 [00:00<?, ?it/s]"
      ]
     },
     "metadata": {},
     "output_type": "display_data"
    },
    {
     "data": {
      "application/vnd.jupyter.widget-view+json": {
       "model_id": "73c742aedfad41e4abaf66a99469e856",
       "version_major": 2,
       "version_minor": 0
      },
      "text/plain": [
       "Processing rows:   0%|          | 0/8000 [00:00<?, ?it/s]"
      ]
     },
     "metadata": {},
     "output_type": "display_data"
    },
    {
     "data": {
      "application/vnd.jupyter.widget-view+json": {
       "model_id": "af8b363b9b734af4ac7f93c229bbb7cb",
       "version_major": 2,
       "version_minor": 0
      },
      "text/plain": [
       "Processing rows:   0%|          | 0/2000 [00:00<?, ?it/s]"
      ]
     },
     "metadata": {},
     "output_type": "display_data"
    },
    {
     "data": {
      "application/vnd.jupyter.widget-view+json": {
       "model_id": "263dc3867ca74fd8b552d5a3fce7f9cb",
       "version_major": 2,
       "version_minor": 0
      },
      "text/plain": [
       "Processing rows:   0%|          | 0/8000 [00:00<?, ?it/s]"
      ]
     },
     "metadata": {},
     "output_type": "display_data"
    },
    {
     "data": {
      "application/vnd.jupyter.widget-view+json": {
       "model_id": "fce600a2229546f2a53d10efe6a60da6",
       "version_major": 2,
       "version_minor": 0
      },
      "text/plain": [
       "Processing rows:   0%|          | 0/2000 [00:00<?, ?it/s]"
      ]
     },
     "metadata": {},
     "output_type": "display_data"
    },
    {
     "data": {
      "application/vnd.jupyter.widget-view+json": {
       "model_id": "8f09dbb1c15b492980fd974ae6d5bd53",
       "version_major": 2,
       "version_minor": 0
      },
      "text/plain": [
       "Processing rows:   0%|          | 0/8000 [00:00<?, ?it/s]"
      ]
     },
     "metadata": {},
     "output_type": "display_data"
    },
    {
     "data": {
      "application/vnd.jupyter.widget-view+json": {
       "model_id": "944b1f96427149bfa04cc0100482c7e8",
       "version_major": 2,
       "version_minor": 0
      },
      "text/plain": [
       "Processing rows:   0%|          | 0/2000 [00:00<?, ?it/s]"
      ]
     },
     "metadata": {},
     "output_type": "display_data"
    },
    {
     "name": "stdout",
     "output_type": "stream",
     "text": [
      "Average accuracy for Logistic Regression with parameter=1.5: 0.8427\n",
      "Average F1-score for Logistic Regression with parameter=1.5: 0.8139570229998503\n",
      "Training Logistic Regression with parameter=2\n"
     ]
    },
    {
     "data": {
      "application/vnd.jupyter.widget-view+json": {
       "model_id": "853a0e88b5ff41e79d75163296573390",
       "version_major": 2,
       "version_minor": 0
      },
      "text/plain": [
       "Processing rows:   0%|          | 0/8000 [00:00<?, ?it/s]"
      ]
     },
     "metadata": {},
     "output_type": "display_data"
    },
    {
     "data": {
      "application/vnd.jupyter.widget-view+json": {
       "model_id": "d7982749417547708919e83d2d3a8da7",
       "version_major": 2,
       "version_minor": 0
      },
      "text/plain": [
       "Processing rows:   0%|          | 0/2000 [00:00<?, ?it/s]"
      ]
     },
     "metadata": {},
     "output_type": "display_data"
    },
    {
     "data": {
      "application/vnd.jupyter.widget-view+json": {
       "model_id": "30a74e3e25d64a73b2e1053cf2d1838d",
       "version_major": 2,
       "version_minor": 0
      },
      "text/plain": [
       "Processing rows:   0%|          | 0/8000 [00:00<?, ?it/s]"
      ]
     },
     "metadata": {},
     "output_type": "display_data"
    },
    {
     "data": {
      "application/vnd.jupyter.widget-view+json": {
       "model_id": "1ba7582e036e4bebbd81adf18d87dd7b",
       "version_major": 2,
       "version_minor": 0
      },
      "text/plain": [
       "Processing rows:   0%|          | 0/2000 [00:00<?, ?it/s]"
      ]
     },
     "metadata": {},
     "output_type": "display_data"
    },
    {
     "data": {
      "application/vnd.jupyter.widget-view+json": {
       "model_id": "6bf7259d0d344a91bf96cb386388924f",
       "version_major": 2,
       "version_minor": 0
      },
      "text/plain": [
       "Processing rows:   0%|          | 0/8000 [00:00<?, ?it/s]"
      ]
     },
     "metadata": {},
     "output_type": "display_data"
    },
    {
     "data": {
      "application/vnd.jupyter.widget-view+json": {
       "model_id": "002b571ad1dc436f9e29fca19b56cd46",
       "version_major": 2,
       "version_minor": 0
      },
      "text/plain": [
       "Processing rows:   0%|          | 0/2000 [00:00<?, ?it/s]"
      ]
     },
     "metadata": {},
     "output_type": "display_data"
    },
    {
     "data": {
      "application/vnd.jupyter.widget-view+json": {
       "model_id": "ae787a9f0cbc4d9d8cf4954575657a55",
       "version_major": 2,
       "version_minor": 0
      },
      "text/plain": [
       "Processing rows:   0%|          | 0/8000 [00:00<?, ?it/s]"
      ]
     },
     "metadata": {},
     "output_type": "display_data"
    },
    {
     "data": {
      "application/vnd.jupyter.widget-view+json": {
       "model_id": "b0ec0a61923f4b2f8e87bb4e2d462298",
       "version_major": 2,
       "version_minor": 0
      },
      "text/plain": [
       "Processing rows:   0%|          | 0/2000 [00:00<?, ?it/s]"
      ]
     },
     "metadata": {},
     "output_type": "display_data"
    },
    {
     "data": {
      "application/vnd.jupyter.widget-view+json": {
       "model_id": "d47c4127973b47bd9a87357cb197b298",
       "version_major": 2,
       "version_minor": 0
      },
      "text/plain": [
       "Processing rows:   0%|          | 0/8000 [00:00<?, ?it/s]"
      ]
     },
     "metadata": {},
     "output_type": "display_data"
    },
    {
     "data": {
      "application/vnd.jupyter.widget-view+json": {
       "model_id": "10853dc02f9943809fb5aef44b3af2b1",
       "version_major": 2,
       "version_minor": 0
      },
      "text/plain": [
       "Processing rows:   0%|          | 0/2000 [00:00<?, ?it/s]"
      ]
     },
     "metadata": {},
     "output_type": "display_data"
    },
    {
     "name": "stdout",
     "output_type": "stream",
     "text": [
      "Average accuracy for Logistic Regression with parameter=2: 0.8436\n",
      "Average F1-score for Logistic Regression with parameter=2: 0.8171329431910503\n",
      "Best model: Logistic Regression (param=2) with F1-Score=0.8171329431910503 and accuracy=0.8436\n"
     ]
    }
   ],
   "source": [
    "alphas = [0.05 , 0.5 , 0.025]\n",
    "Cs = [1, 1.5, 2]  # Regularization strengths for Logistic Regression\n",
    "\n",
    "\n",
    "classifiers = {\n",
    "    \"Naive Bayes\": lambda alpha: MultinomialNB(alpha=alpha),\n",
    "    \"Logistic Regression\": lambda C: LogisticRegression(C=C, max_iter=1000)\n",
    "}\n",
    "\n",
    "kf = KFold(n_splits=5, shuffle=True)\n",
    "best_model = None\n",
    "best_score = -1  # Initialize best score with a low value\n",
    "\n",
    "\n",
    "for clf_name, clf_constructor in classifiers.items():\n",
    "    param_list = alphas if clf_name == \"Naive Bayes\" else Cs\n",
    "    \n",
    "    for param in param_list:\n",
    "        print(f\"Training {clf_name} with parameter={param}\")\n",
    "        model = clf_constructor(param)\n",
    "        fold_accuracies = []\n",
    "        fold_f1_scores = []  # List to store F1-scores for each fold\n",
    "\n",
    "        for train_index, val_index in kf.split(X):\n",
    "\n",
    "        #Splitting into X_train and x_validation\n",
    "            X_train, X_val = X.iloc[train_index], X.iloc[val_index]  \n",
    "            y_train, y_val = y.iloc[train_index], y.iloc[val_index]\n",
    "    \n",
    "            y_train = y_train.values.ravel()\n",
    "            y_val = y_val.values.ravel()      \n",
    "\n",
    "        \n",
    "            #preprocess X_train in order to create the TF-IDF Values.\n",
    "            train_df = preprocessing(X_train)\n",
    "            vectorizer = TfidfVectorizer() # we set how many.\n",
    "            X_train = vectorizer.fit_transform(train_df[\"Processed Text\"])\n",
    "            X_train = pd.DataFrame(X_train.toarray(), columns=vectorizer.get_feature_names_out())\n",
    "            X_train.insert(1, \"Text_ID\", train_df[\"Text_ID\"])  # Keep track of original text index\n",
    "            X_train.set_index('Text_ID', inplace=True)\n",
    "    \n",
    "            \n",
    "            #Preprocess Test Data\n",
    "            test_df = preprocessing(X_val)\n",
    "    \n",
    "            #Transform X_test using the same vectorizer\n",
    "            X_val= vectorizer.transform(test_df[\"Processed Text\"])\n",
    "            X_val = pd.DataFrame(X_val.toarray(), columns=vectorizer.get_feature_names_out())\n",
    "            X_val.insert(1,\"Text_ID\" , test_df[\"Text_ID\"])\n",
    "            X_val.set_index('Text_ID', inplace=True)\n",
    "\n",
    "        \n",
    "        \n",
    "            model.fit(X_train, y_train)\n",
    "            y_pred = model.predict(X_val)\n",
    "            accuracy = accuracy_score(y_val, y_pred)\n",
    "            f1 = f1_score(y_val, y_pred, average='weighted')  # Calculate weighted F1-score\n",
    "            fold_f1_scores.append(f1)\n",
    "            fold_accuracies.append(accuracy)\n",
    "\n",
    "        # Compute Average Accuracy for the Parameter\n",
    "        avg_accuracy = np.mean(fold_accuracies)\n",
    "        avg_f1_score = np.mean(fold_f1_scores)\n",
    "\n",
    "        print(f\"Average accuracy for {clf_name} with parameter={param}: {avg_accuracy}\")\n",
    "        print(f\"Average F1-score for {clf_name} with parameter={param}: {avg_f1_score}\")\n",
    "\n",
    "        # Update Best Model if Current Model Performs Better\n",
    "        if avg_f1_score > best_score:\n",
    "            best_score = avg_f1_score\n",
    "            best_model = model\n",
    "            best_classifier = f\"{clf_name} (param={param})\"\n",
    "            best_acc = avg_accuracy\n",
    "\n",
    "\n",
    "\n",
    "\n",
    "print(f\"Best model: {best_classifier} with F1-Score={best_score} and accuracy={best_acc}\")\n"
   ]
  },
  {
   "cell_type": "code",
   "execution_count": 10,
   "id": "21a2eb3f-d1cf-42ac-97d2-d523755525e7",
   "metadata": {},
   "outputs": [
    {
     "data": {
      "application/vnd.jupyter.widget-view+json": {
       "model_id": "1304506ba97e4f159b3a966a151c6af7",
       "version_major": 2,
       "version_minor": 0
      },
      "text/plain": [
       "Processing rows:   0%|          | 0/6700 [00:00<?, ?it/s]"
      ]
     },
     "metadata": {},
     "output_type": "display_data"
    },
    {
     "data": {
      "application/vnd.jupyter.widget-view+json": {
       "model_id": "0d472d3809354ca482b747ab17a94a59",
       "version_major": 2,
       "version_minor": 0
      },
      "text/plain": [
       "Processing rows:   0%|          | 0/3300 [00:00<?, ?it/s]"
      ]
     },
     "metadata": {},
     "output_type": "display_data"
    }
   ],
   "source": [
    "X_train, X_test, y_train, y_test = train_test_split(X, y, test_size=0.33)\n",
    "\n",
    "#Preprocess Training Data\n",
    "train_df = preprocessing(X_train)\n",
    "\n",
    "#Fit TF-IDF on the training set\n",
    "vectorizer = TfidfVectorizer() # we set how many.\n",
    "X_train = vectorizer.fit_transform(train_df[\"Processed Text\"])\n",
    "X_train = pd.DataFrame(X_train.toarray(), columns=vectorizer.get_feature_names_out())\n",
    "X_train.insert(1, \"Text_ID\", train_df[\"Text_ID\"])  # Keep track of original text index\n",
    "X_train.set_index('Text_ID', inplace=True)\n",
    "\n",
    "#Preprocess Test Data\n",
    "test_df = preprocessing(X_test)\n",
    "\n",
    "#Transform X_test using the same vectorizer\n",
    "X_test= vectorizer.transform(test_df[\"Processed Text\"])\n",
    "X_test = pd.DataFrame(X_test.toarray(), columns=vectorizer.get_feature_names_out())\n",
    "X_test.insert(1,\"Text_ID\" , test_df[\"Text_ID\"])\n",
    "X_test.set_index('Text_ID', inplace=True)\n",
    "\n"
   ]
  },
  {
   "cell_type": "code",
   "execution_count": 11,
   "id": "c6f9df3e-6c86-43c0-a665-770c9cfbf26a",
   "metadata": {},
   "outputs": [
    {
     "name": "stdout",
     "output_type": "stream",
     "text": [
      "F1-Score for Best Model: 0.8149\n",
      "The Best Model has final accuracy: 0.8430\n"
     ]
    }
   ],
   "source": [
    "y_train = y_train.values.ravel()\n",
    "y_test = y_test.values.ravel()\n",
    "\n",
    "\n",
    "best = LogisticRegression(C=2)\n",
    "\n",
    "best.fit(X_train,y_train)\n",
    "\n",
    "y_pred = best.predict(X_test)\n",
    "\n",
    "\n",
    "accuracy = accuracy_score(y_test,y_pred)\n",
    "\n",
    "f1 = f1_score(y_test, y_pred, average='weighted')  # Calculate weighted F1-score\n",
    "print(f\"F1-Score for Best Model: {f1:.4f}\")\n",
    "\n",
    "print(f\"The Best Model has final accuracy: {accuracy:.4f}\")"
   ]
  },
  {
   "cell_type": "code",
   "execution_count": null,
   "id": "0a977978-1fcd-48ea-b60d-876d9b9d0a36",
   "metadata": {},
   "outputs": [],
   "source": []
  }
 ],
 "metadata": {
  "kernelspec": {
   "display_name": "Python 3 (ipykernel)",
   "language": "python",
   "name": "python3"
  },
  "language_info": {
   "codemirror_mode": {
    "name": "ipython",
    "version": 3
   },
   "file_extension": ".py",
   "mimetype": "text/x-python",
   "name": "python",
   "nbconvert_exporter": "python",
   "pygments_lexer": "ipython3",
   "version": "3.12.0"
  }
 },
 "nbformat": 4,
 "nbformat_minor": 5
}
